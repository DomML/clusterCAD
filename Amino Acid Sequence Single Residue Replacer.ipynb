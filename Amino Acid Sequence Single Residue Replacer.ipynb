{
 "cells": [
  {
   "cell_type": "markdown",
   "metadata": {},
   "source": [
    "# Amino Acid Sequence Single Residue Replacer"
   ]
  },
  {
   "cell_type": "markdown",
   "metadata": {},
   "source": [
    "**by Xavier Tao**\n",
    "\n",
    "This program will replace an amino acid with another amino acid of your choice at a location of your specification. "
   ]
  },
  {
   "cell_type": "code",
   "execution_count": 7,
   "metadata": {},
   "outputs": [
    {
     "name": "stdout",
     "output_type": "stream",
     "text": [
      "Enter your amino acid sequence. Please do not include any spaces or non-residue letters or numbers in your input. AAAAA\n",
      "Enter your desired replacement in the following format: current AA,location,new AA. Do not use spaces. e.g. G,5,R: P,1,R\n"
     ]
    },
    {
     "ename": "Exception",
     "evalue": "Something's not right. Check your input. ",
     "output_type": "error",
     "traceback": [
      "\u001b[0;31m---------------------------------------------------------------------------\u001b[0m",
      "\u001b[0;31mException\u001b[0m                                 Traceback (most recent call last)",
      "\u001b[0;32m<ipython-input-7-7b3f817c9034>\u001b[0m in \u001b[0;36m<module>\u001b[0;34m\u001b[0m\n\u001b[1;32m     12\u001b[0m     \u001b[0maa_list\u001b[0m\u001b[0;34m[\u001b[0m\u001b[0mlocation\u001b[0m\u001b[0;34m-\u001b[0m\u001b[0;36m1\u001b[0m\u001b[0;34m]\u001b[0m \u001b[0;34m=\u001b[0m \u001b[0mnew_aa\u001b[0m\u001b[0;34m\u001b[0m\u001b[0;34m\u001b[0m\u001b[0m\n\u001b[1;32m     13\u001b[0m \u001b[0;32melse\u001b[0m\u001b[0;34m:\u001b[0m\u001b[0;34m\u001b[0m\u001b[0;34m\u001b[0m\u001b[0m\n\u001b[0;32m---> 14\u001b[0;31m     \u001b[0;32mraise\u001b[0m \u001b[0mException\u001b[0m\u001b[0;34m(\u001b[0m\u001b[0;34m\"Something's not right. Check your input. \"\u001b[0m\u001b[0;34m)\u001b[0m\u001b[0;34m\u001b[0m\u001b[0;34m\u001b[0m\u001b[0m\n\u001b[0m\u001b[1;32m     15\u001b[0m \u001b[0;34m\u001b[0m\u001b[0m\n\u001b[1;32m     16\u001b[0m \u001b[0maa_final\u001b[0m \u001b[0;34m=\u001b[0m \u001b[0;34m''\u001b[0m\u001b[0;34m.\u001b[0m\u001b[0mjoin\u001b[0m\u001b[0;34m(\u001b[0m\u001b[0maa_list\u001b[0m\u001b[0;34m)\u001b[0m\u001b[0;34m\u001b[0m\u001b[0;34m\u001b[0m\u001b[0m\n",
      "\u001b[0;31mException\u001b[0m: Something's not right. Check your input. "
     ]
    }
   ],
   "source": [
    "aa = input(\"Enter your amino acid sequence. Please do not include any spaces or non-residue letters or numbers in your input. \")\n",
    "aa_list = list(aa)\n",
    "\n",
    "replacement = input(\"Enter your desired replacement in the following format: current AA,location,new AA. Do not use spaces. e.g. G,5,R: \")\n",
    "replacement_split = replacement.split(\",\")\n",
    "\n",
    "old_aa = replacement_split[0]\n",
    "location = int(replacement_split[1])\n",
    "new_aa = replacement_split[2]\n",
    "\n",
    "if(aa_list[location-1] == old_aa):\n",
    "    aa_list[location-1] = new_aa\n",
    "else:\n",
    "    raise Exception(\"Something's not right. Check your input. \")\n",
    "    \n",
    "aa_final = ''.join(aa_list)\n",
    "aa_final"
   ]
  },
  {
   "cell_type": "code",
   "execution_count": null,
   "metadata": {},
   "outputs": [],
   "source": []
  }
 ],
 "metadata": {
  "kernelspec": {
   "display_name": "Python 3",
   "language": "python",
   "name": "python3"
  },
  "language_info": {
   "codemirror_mode": {
    "name": "ipython",
    "version": 3
   },
   "file_extension": ".py",
   "mimetype": "text/x-python",
   "name": "python",
   "nbconvert_exporter": "python",
   "pygments_lexer": "ipython3",
   "version": "3.7.3"
  }
 },
 "nbformat": 4,
 "nbformat_minor": 2
}
