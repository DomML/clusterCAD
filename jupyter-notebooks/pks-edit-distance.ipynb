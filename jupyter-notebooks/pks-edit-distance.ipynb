{
 "cells": [
  {
   "cell_type": "markdown",
   "metadata": {},
   "source": [
    "# Calculate edit distance between two PKS architectures\n",
    "\n",
    "Note: for reference here are two Python libraries for computing Levenshtein distance\n",
    "* https://github.com/aflc/editdistance This one doesn't return the full matrix, or list of edit operations\n",
    "* https://github.com/ztane/python-Levenshtein/ This one only works on strings\n",
    "\n",
    "Here we will use the second one, and archive a unique unicode ID for each annotation configuration of each possible domain\n",
    "\n",
    "**by Tyler W. H. Backman**"
   ]
  },
  {
   "cell_type": "code",
   "execution_count": 1,
   "metadata": {},
   "outputs": [],
   "source": [
    "# Connect to ClusterCAD\n",
    "import os, sys\n",
    "sys.path.insert(0, '/clusterCAD')\n",
    "os.environ.setdefault(\"DJANGO_SETTINGS_MODULE\", \"clusterCAD.settings\")\n",
    "import django\n",
    "django.setup()\n",
    "import pks.models"
   ]
  },
  {
   "cell_type": "code",
   "execution_count": 2,
   "metadata": {},
   "outputs": [],
   "source": [
    "# os.system('pip3 install python-Levenshtein')"
   ]
  },
  {
   "cell_type": "code",
   "execution_count": 3,
   "metadata": {},
   "outputs": [],
   "source": [
    "# Load libaries\n",
    "import numpy as np\n",
    "import Levenshtein # get via 'pip3 install python-Levenshtein'\n",
    "import itertools"
   ]
  },
  {
   "cell_type": "markdown",
   "metadata": {},
   "source": [
    "### Define functions to to convert ClusterCAD objects into a tuple of domains"
   ]
  },
  {
   "cell_type": "code",
   "execution_count": 4,
   "metadata": {},
   "outputs": [],
   "source": [
    "def isActive(domain):\n",
    "    # returns the catalytic activity of a domain as a boolean\n",
    "    \n",
    "    if type(domain) in {\n",
    "                            pks.models.CAL, \n",
    "                            pks.models.AT, \n",
    "                            pks.models.TE, \n",
    "                            pks.models.KS, \n",
    "                            pks.models.ACP, \n",
    "                            pks.models.PCP,\n",
    "                       }:\n",
    "        return True # these domains are always active but don't contain the boolean internally\n",
    "    else:\n",
    "        return domain.active\n",
    "\n",
    "def moduleToTuple(thisModule, inactives=True):\n",
    "    # export a PKS module as a list of text strings\n",
    "    if inactives:\n",
    "        domains = thisModule.domains()\n",
    "    else:\n",
    "        domains = filter(lambda d: isActive(d), thisModule.domains())\n",
    "    return tuple(repr(domain) + '_' + str(domain) for domain in domains)"
   ]
  },
  {
   "cell_type": "markdown",
   "metadata": {},
   "source": [
    "### Get two PKSs from ClusterCAD to compare"
   ]
  },
  {
   "cell_type": "code",
   "execution_count": 5,
   "metadata": {},
   "outputs": [
    {
     "data": {
      "text/plain": [
       "['AT_substrate cyclopentene, loading',\n",
       " 'ACP_domain',\n",
       " 'KS_domain',\n",
       " 'AT_substrate emal, non-loading',\n",
       " 'DH_active',\n",
       " 'ER_active',\n",
       " 'KR_type B1, active',\n",
       " 'ACP_domain',\n",
       " 'KS_domain',\n",
       " 'AT_substrate mal, non-loading',\n",
       " 'ACP_domain',\n",
       " 'TE_non-cyclic']"
      ]
     },
     "execution_count": 5,
     "metadata": {},
     "output_type": "execute_result"
    }
   ],
   "source": [
    "# Test moduleToTuple by getting the Coronafacic acid synthase architecture\n",
    "pks1 = pks.models.Cluster.objects.get(mibigAccession='BGC0000041.1')\n",
    "pks1architecture = [domainText\n",
    "                   for subunit in pks1.subunits()\n",
    "                   for module in subunit.modules()\n",
    "                   for domainText in moduleToTuple(module, inactives=False)]\n",
    "pks1architecture"
   ]
  },
  {
   "cell_type": "code",
   "execution_count": 6,
   "metadata": {},
   "outputs": [
    {
     "data": {
      "text/plain": [
       "['KS_domain',\n",
       " 'AT_substrate DCP, loading',\n",
       " 'ACP_domain',\n",
       " 'KS_domain',\n",
       " 'AT_substrate DCP, non-loading',\n",
       " 'DH_active',\n",
       " 'KR_type C1, active',\n",
       " 'ACP_domain',\n",
       " 'KS_domain',\n",
       " 'AT_substrate mal, non-loading',\n",
       " 'ACP_domain']"
      ]
     },
     "execution_count": 6,
     "metadata": {},
     "output_type": "execute_result"
    }
   ],
   "source": [
    "# get Chlorizidine A architecture\n",
    "pks2 = pks.models.Cluster.objects.get(mibigAccession='BGC0001172.1')\n",
    "pks2architecture = [domainText\n",
    "                   for subunit in pks2.subunits()\n",
    "                   for module in subunit.modules()\n",
    "                   for domainText in moduleToTuple(module, inactives=False)]\n",
    "pks2architecture"
   ]
  },
  {
   "cell_type": "markdown",
   "metadata": {},
   "source": [
    "## Decompose into unicode string to test Levenshtein package\n",
    "\n",
    "editops output:\n",
    "The result is a list of triples (operation, spos, dpos), where operation is one of 'replace', 'insert', or 'delete'; spos and dpos are position of characters in the first (source) and the second (destination) strings.\n",
    "\n",
    "transforming source_string to destination_string"
   ]
  },
  {
   "cell_type": "code",
   "execution_count": 7,
   "metadata": {},
   "outputs": [
    {
     "data": {
      "text/plain": [
       "{'ACP_domain': '\\x00',\n",
       " 'DH_active': '\\x01',\n",
       " 'KR_type B1, active': '\\x02',\n",
       " 'AT_substrate mal, non-loading': '\\x03',\n",
       " 'AT_substrate DCP, loading': '\\x04',\n",
       " 'AT_substrate cyclopentene, loading': '\\x05',\n",
       " 'AT_substrate DCP, non-loading': '\\x06',\n",
       " 'KS_domain': '\\x07',\n",
       " 'AT_substrate emal, non-loading': '\\x08',\n",
       " 'ER_active': '\\t',\n",
       " 'TE_non-cyclic': '\\n',\n",
       " 'KR_type C1, active': '\\x0b'}"
      ]
     },
     "execution_count": 7,
     "metadata": {},
     "output_type": "execute_result"
    }
   ],
   "source": [
    "# Create lookup table with a unique unicode char for each domain\n",
    "\n",
    "target = pks1architecture.copy()\n",
    "source = pks2architecture.copy()\n",
    "uniqueDomains = set(source)\n",
    "uniqueDomains.update(target)\n",
    "lookupTable = {name: chr(id) for id, name in enumerate(uniqueDomains)}\n",
    "lookupTable"
   ]
  },
  {
   "cell_type": "code",
   "execution_count": 8,
   "metadata": {},
   "outputs": [],
   "source": [
    "# Convert PKS designs into unicode strings\n",
    "\n",
    "sourceString = ''.join([lookupTable[k] for k in source])\n",
    "targetString = ''.join([lookupTable[k] for k in target])"
   ]
  },
  {
   "cell_type": "code",
   "execution_count": 9,
   "metadata": {},
   "outputs": [
    {
     "data": {
      "text/plain": [
       "6"
      ]
     },
     "execution_count": 9,
     "metadata": {},
     "output_type": "execute_result"
    }
   ],
   "source": [
    "# Compute string distance\n",
    "\n",
    "Levenshtein.distance(sourceString, targetString)"
   ]
  },
  {
   "cell_type": "code",
   "execution_count": 10,
   "metadata": {},
   "outputs": [
    {
     "data": {
      "text/plain": [
       "[('delete', 0, 0),\n",
       " ('replace', 1, 0),\n",
       " ('replace', 4, 3),\n",
       " ('insert', 6, 5),\n",
       " ('replace', 6, 6),\n",
       " ('insert', 11, 11)]"
      ]
     },
     "execution_count": 10,
     "metadata": {},
     "output_type": "execute_result"
    }
   ],
   "source": [
    "# Show machine readable edit operations\n",
    "editOps = Levenshtein.editops(sourceString, targetString)\n",
    "editOps"
   ]
  },
  {
   "cell_type": "code",
   "execution_count": 11,
   "metadata": {},
   "outputs": [
    {
     "name": "stdout",
     "output_type": "stream",
     "text": [
      "delete 1(KS_domain) from source\n",
      "replace 2(AT_substrate DCP, loading) from source with 1(AT_substrate cyclopentene, loading) from target\n",
      "replace 5(AT_substrate DCP, non-loading) from source with 4(AT_substrate emal, non-loading) from target\n",
      "insert 6(ER_active) from target after element 6(DH_active) in source\n",
      "replace 7(KR_type C1, active) from source with 7(KR_type B1, active) from target\n",
      "insert 12(TE_non-cyclic) from target after element 11(ACP_domain) in source\n"
     ]
    }
   ],
   "source": [
    "# Print human readable edit operations \n",
    "for editOp in editOps:\n",
    "    if editOp[0] == 'delete':\n",
    "        print('delete %s(%s) from source' % (editOp[1]+1, source[editOp[1]]))\n",
    "    if editOp[0] == 'replace':\n",
    "        print('replace %s(%s) from source with %s(%s) from target' % (editOp[1]+1, source[editOp[1]], editOp[2]+1, target[editOp[2]]))\n",
    "    if editOp[0] == 'insert':\n",
    "            print('insert %s(%s) from target after element %s(%s) in source' % (editOp[2]+1, target[editOp[2]], editOp[1], source[editOp[1]-1]))"
   ]
  },
  {
   "cell_type": "markdown",
   "metadata": {},
   "source": [
    "## Connect to ClusterCAD and create a searchable database of all PKS designs"
   ]
  },
  {
   "cell_type": "code",
   "execution_count": 12,
   "metadata": {},
   "outputs": [
    {
     "data": {
      "text/plain": [
       "72"
      ]
     },
     "execution_count": 12,
     "metadata": {},
     "output_type": "execute_result"
    }
   ],
   "source": [
    "# get all PKSs\n",
    "allPKSs = pks.models.Cluster.objects.filter(reviewed=True)\n",
    "len(allPKSs)"
   ]
  },
  {
   "cell_type": "raw",
   "metadata": {},
   "source": [
    "def extractPKSarch(pksObject):\n",
    "    # convert a PKS object into a list defining it's domains\n",
    "    return [domainText\n",
    "        for subunit in pksObject.subunits()\n",
    "        for module in subunit.modules()\n",
    "        for domainText in moduleToTuple(module, inactives=False)]"
   ]
  },
  {
   "cell_type": "code",
   "execution_count": 13,
   "metadata": {},
   "outputs": [],
   "source": [
    "def extractPKSarch(pksObject, skipStart=True):\n",
    "    # convert a PKS object into a list defining it's domains\n",
    "    arch = []\n",
    "    for subunit in pksObject.subunits():\n",
    "        for module in subunit.modules():\n",
    "            if skipStart and module.order == 0:\n",
    "                continue\n",
    "            for domainText in moduleToTuple(module, inactives=False):\n",
    "                arch.append(domainText)\n",
    "    return arch             "
   ]
  },
  {
   "cell_type": "code",
   "execution_count": 14,
   "metadata": {},
   "outputs": [],
   "source": [
    "# create dict with designs for each PKS\n",
    "allPKSDesigns = {pks.mibigAccession: extractPKSarch(pks) for pks in allPKSs}"
   ]
  },
  {
   "cell_type": "code",
   "execution_count": 15,
   "metadata": {},
   "outputs": [
    {
     "data": {
      "text/plain": [
       "26"
      ]
     },
     "execution_count": 15,
     "metadata": {},
     "output_type": "execute_result"
    }
   ],
   "source": [
    "# create a set of all unique domains\n",
    "allUniqueDomains = set(itertools.chain.from_iterable(allPKSDesigns.values()))\n",
    "len(allUniqueDomains)"
   ]
  },
  {
   "cell_type": "code",
   "execution_count": 16,
   "metadata": {},
   "outputs": [
    {
     "data": {
      "text/plain": [
       "{'ACP_domain': '\\x00',\n",
       " 'AT_substrate hexmal, non-loading': '\\x01',\n",
       " 'KR_type B, active': '\\x02',\n",
       " 'AT_substrate isobutmal, non-loading': '\\x03',\n",
       " 'ER_active': '\\x04',\n",
       " 'AT_substrate butmal, non-loading': '\\x05',\n",
       " 'KR_type A1, active': '\\x06',\n",
       " 'AT_substrate mal, non-loading': '\\x07',\n",
       " 'PCP_domain': '\\x08',\n",
       " 'KR_type U, active': '\\t',\n",
       " 'AT_substrate mxmal_ACP, non-loading': '\\n',\n",
       " 'AT_substrate hmal, non-loading': '\\x0b',\n",
       " 'KR_type B2, active': '\\x0c',\n",
       " 'KS_domain': '\\r',\n",
       " 'KR_type A, active': '\\x0e',\n",
       " 'AT_substrate mmal, non-loading, iterations 3': '\\x0f',\n",
       " 'AT_substrate emal, non-loading': '\\x10',\n",
       " 'AT_substrate mmal, non-loading': '\\x11',\n",
       " 'KR_type C2, active': '\\x12',\n",
       " 'DH_active': '\\x13',\n",
       " 'KR_type B1, active': '\\x14',\n",
       " 'AT_substrate DCP, non-loading': '\\x15',\n",
       " 'KR_type A2, active': '\\x16',\n",
       " 'TE_cyclic': '\\x17',\n",
       " 'TE_non-cyclic': '\\x18',\n",
       " 'KR_type C1, active': '\\x19'}"
      ]
     },
     "execution_count": 16,
     "metadata": {},
     "output_type": "execute_result"
    }
   ],
   "source": [
    "# create lookup table assigning a unique unicode to each domain\n",
    "lookupTable = {name: chr(id) for id, name in enumerate(allUniqueDomains)}\n",
    "lookupTable"
   ]
  },
  {
   "cell_type": "code",
   "execution_count": 17,
   "metadata": {},
   "outputs": [],
   "source": [
    "# create a dict with strings for each PKS design\n",
    "pksDesignStrings = {key: ''.join([lookupTable[k] for k in value]) for key, value in allPKSDesigns.items()}"
   ]
  },
  {
   "cell_type": "code",
   "execution_count": 18,
   "metadata": {},
   "outputs": [
    {
     "data": {
      "text/plain": [
       "{'BGC0000015.1': '\\r\\x11\\x16\\x00\\r\\x11\\x06\\x00\\r\\x07\\x13\\t\\x00\\r\\x07\\x13\\x14\\x00\\r\\x07\\x13\\x14\\x00\\r\\x07\\x13\\x14\\x00\\r\\x07\\x13\\x14\\x00\\r\\x07\\x13\\x14\\x00\\r\\x07\\x13\\x14\\x00\\r\\x07\\x06\\x00\\r\\x11\\x16\\x00\\r\\x07\\x06\\x00\\r\\x07\\x19\\x00\\r\\x07\\x14\\x00\\r\\x07\\x00\\r\\x07\\x13\\x04\\x14\\x00\\r\\x07\\x00\\r\\x07\\x14\\x00\\x17',\n",
       " 'BGC0000036.1': '\\r\\x11\\x13\\x14\\x00\\r\\x07\\x13\\x14\\x00\\r\\x07\\x13\\x14\\x00\\r\\x07\\x13\\x04\\x14\\x00\\r\\x07\\x13\\x04\\x14\\x00\\r\\x07\\x13\\x14\\x00\\r\\x07\\x13\\t\\x00\\r\\x07\\x14\\x00\\r\\x07\\x13\\x04\\x14\\x00\\r\\x11\\x13\\x14\\x00\\r\\x07\\x19\\x00',\n",
       " 'BGC0000001.1': '\\r\\x07\\x13\\t\\x00\\r\\x07\\x13\\x14\\x00\\r\\x07\\x13\\t\\x00\\r\\x11\\x13\\x19\\x00\\r\\x11\\x13\\x04\\x14\\x00\\r\\x07\\x00',\n",
       " 'BGC0000018.1': '\\r\\x11\\x06\\x00\\r\\x11\\x13\\x14\\x00\\r\\x07\\x13\\x14\\x00\\r\\x11\\x12\\x00\\r\\x10\\x13\\x04\\x14\\x00\\r\\x11\\x06\\x00\\r\\x07\\x06\\x00\\x17',\n",
       " 'BGC0000031.1': '\\r\\x07\\x14\\x00\\r\\x07\\x13\\x14\\x00\\r\\x11\\x13\\x14\\x00\\r\\x11\\x06\\x00\\r\\x0f\\x13\\x04\\x14\\x00\\r\\x07\\x14\\x00\\x17',\n",
       " 'BGC0000032.1': '\\r\\x11\\x14\\x00\\r\\x11\\x13\\x04\\x14\\x00\\r\\x07\\x19\\x00\\r\\x11\\x13\\x04\\x14\\x00\\r\\x07\\x06\\x00',\n",
       " 'BGC0000035.1': '\\r\\x11\\x14\\x00\\r\\x07\\x13\\x14\\x00\\r\\x07\\x13\\x14\\x00\\r\\x11\\x12\\x00\\r\\x11\\x13\\x04\\x14\\x00\\r\\x11\\x06\\x00\\r\\x07\\x00\\x17',\n",
       " 'BGC0000020.1': '\\r\\x11\\x00\\r\\x07\\x13\\x14\\x00\\r\\n\\x13\\x14\\x00\\r\\x07\\x00\\r\\x11\\x06\\x00\\r\\x11\\x13\\x14\\x00\\r\\x07\\x13\\x14\\x00',\n",
       " 'BGC0000028.1': '\\r\\x11\\x14\\x00\\r\\x07\\x06\\x00\\r\\x11\\x00\\r\\x11\\x16\\x00\\r\\n\\x14\\x00\\r\\x07\\x13\\x14\\x00\\r\\x11\\x13\\x14\\x00\\r\\x11\\x13\\x04\\x14\\x00\\r\\x11\\x16\\x00\\r\\x11\\x13\\x14\\x00\\r\\x11\\x13\\x14\\x00\\x17',\n",
       " 'BGC0000041.1': '\\r\\x10\\x13\\x04\\x14\\x00\\r\\x07\\x00\\x18',\n",
       " 'BGC0000058.1': '\\r\\x11\\x06\\x00\\r\\x11\\x16\\x00\\r\\x07\\x14\\x00\\r\\x07\\x13\\x14\\x00\\r\\x11\\x13\\x04\\x14\\x00\\r\\x07\\x14\\x00\\r\\x07\\x13\\x14\\x00\\r\\x07\\x13\\x04\\x14\\x00\\r\\x07\\x13\\x14\\x00\\r\\x11\\x14\\x00\\r\\x11\\x13\\x14\\x00\\r\\x11\\x13\\x14\\x00\\x17',\n",
       " 'BGC0000049.1': '\\r\\x11\\x13\\x14\\x00\\r\\x11\\x16\\x00\\r\\x07\\x13\\x14\\x00\\r\\x07\\x13\\x14\\x00',\n",
       " 'BGC0000060.1': '\\r\\x07\\x13\\x14\\x00\\r\\x07\\x13\\x06\\x00\\r\\x07\\x13\\x06\\x00\\r\\x07\\x06\\x00\\r\\x11\\x14\\x00\\r\\x07\\x13\\x14\\x00\\r\\x07\\x06\\x00\\r\\x07\\x06\\x00\\x18',\n",
       " 'BGC0000038.1': '\\r\\x07\\x13\\x14\\x00\\r\\x07\\x13\\x14\\x00\\r\\x07\\x13\\x14\\x00\\r\\x07\\x0e\\x00\\r\\x07\\x13\\x14\\x00',\n",
       " 'BGC0000054.1': '\\r\\x11\\x0c\\x00\\r\\x11\\x06\\x00\\r\\x11\\x12\\x00\\r\\x11\\x13\\x04\\x14\\x00\\r\\x11\\x06\\x00\\r\\x11\\x06\\x00\\x17',\n",
       " 'BGC0000066.1': '\\r\\x11\\x13\\x04\\x14\\x00\\r\\n\\x13\\x04\\x14\\x00\\r\\x11\\x06\\x00\\r\\x11\\x13\\x14\\x00\\r\\n\\x06\\x00\\r\\x07\\x13\\x04\\x14\\x00\\r\\x11\\x13\\x14\\x00',\n",
       " 'BGC0000067.1': '\\r\\x11\\x13\\x04\\x14\\x00\\r\\n\\x13\\x04\\x14\\x00\\r\\x11\\x06\\x00\\r\\x11\\x13\\x14\\x00\\r\\n\\x06\\x00\\r\\x07\\x13\\x04\\x14\\x00\\r\\x11\\x13\\x14\\x00',\n",
       " 'BGC0000073.1': '\\r\\x11\\x06\\x00\\r\\x07\\x06\\x00\\r\\x07\\x14\\x00\\r\\x11\\x13\\x14\\x00\\r\\x11\\x13\\x04\\x14\\x00\\r\\x07\\x06\\x00\\r\\x11\\x0c\\x00\\r\\x07\\x13\\x14\\x00\\r\\x07\\x13\\x14\\x00\\r\\x11\\x13\\x04\\x14\\x00\\r\\x07\\x00\\r\\x07\\x06\\x00\\r\\x11\\x13\\x04\\x14\\x00\\r\\x07\\x00\\r\\x11\\x13\\x14\\x00\\r\\x11\\x13\\x14\\x00\\r\\x07\\x06\\x00\\r\\x11\\x13\\x14\\x00\\x17',\n",
       " 'BGC0000075.1': '\\r\\x11\\x13\\x14\\x00\\r\\x07\\x00\\r\\x07\\x19\\x00\\r\\x10\\x13\\x04\\x14\\x00\\r\\x07\\x13\\x14\\x00\\r\\x11\\x13\\x04\\x14\\x00\\r\\x11\\x00\\r\\x07\\x13\\x14\\x00',\n",
       " 'BGC0000050.1': '\\r\\x11\\x13\\x14\\x00\\r\\x11\\x16\\x00\\r\\x07\\x13\\x14\\x00\\r\\x11\\x13\\t\\x00\\r\\x07\\x13\\x04\\x14\\x00\\r\\x07\\x14\\x00\\r\\x11\\x19\\x00\\r\\x11\\x12\\x00\\x18',\n",
       " 'BGC0000055.1': '\\r\\x11\\x0c\\x00\\r\\x11\\x06\\x00\\r\\x11\\x12\\x00\\r\\x11\\x13\\x04\\x14\\x00\\r\\x11\\x06\\x00\\r\\x11\\x06\\x00\\x17',\n",
       " 'BGC0000074.1': '\\r\\x11\\x13\\x04\\x14\\x00\\r\\n\\x13\\x04\\x14\\x00\\r\\x11\\x06\\x00\\r\\x11\\x13\\x14\\x00\\r\\n\\x06\\x00\\r\\x07\\x13\\x04\\x14\\x00\\r\\x11\\x13\\x14\\x00',\n",
       " 'BGC0000087.1': '\\r\\x10\\x13\\x14\\x00\\r\\x07\\x13\\x04\\x14\\x00\\r\\x10\\x13\\x14\\x00\\r\\x11\\x13\\x04\\x14\\x00\\r\\x10\\x16\\x00\\r\\x11\\x00\\r\\x11\\x0c\\x00\\r\\x07\\x13\\x04\\x14\\x00\\r\\x07\\x19\\x00\\r\\x11\\x14\\x00\\r\\x07\\x00\\x18',\n",
       " 'BGC0000084.1': '\\r\\x11\\x13\\x00\\r\\x11\\x13\\x04\\t\\x00\\r\\x07\\x13\\t\\x00\\r\\x11\\x13\\x04\\x14\\x00\\r\\x11\\x13\\x14\\x00\\r\\x07\\x13\\x04\\t\\x00\\r\\x11\\x13\\x14\\x00\\r\\x07\\x13\\x04\\t\\x00\\r\\x07\\x19\\x00\\r\\x11\\x06\\x00\\r\\x11\\x06\\x00\\r\\x11\\x13\\t\\x00',\n",
       " 'BGC0000090.1': '\\r\\x11\\x13\\x04\\x14\\x00\\r\\n\\x13\\x04\\x14\\x00\\r\\x11\\x06\\x00\\r\\x11\\x13\\t\\x00\\r\\x11\\x06\\x00\\r\\x07\\x13\\x04\\x14\\x00\\r\\x11\\x13\\x14\\x00',\n",
       " 'BGC0000086.1': '\\r\\x10\\x13\\x14\\x00\\r\\x07\\x13\\x04\\x14\\x00\\r\\x10\\x13\\x14\\x00\\r\\x11\\x13\\x04\\x14\\x00\\r\\x10\\x16\\x00\\r\\x11\\x00\\r\\x11\\x0c\\x00\\r\\x07\\x13\\x04\\x14\\x00\\r\\x07\\x19\\x00\\r\\x11\\x14\\x00\\r\\x07\\x00\\x18',\n",
       " 'BGC0000092.1': '\\r\\x11\\x0c\\x00\\r\\x11\\x06\\x00\\r\\x11\\x12\\x00\\r\\x11\\x13\\x04\\t\\x00\\r\\x11\\x06\\x00\\r\\x11\\x06\\x00\\x17',\n",
       " 'BGC0000100.1': '\\r\\x11\\x13\\x19\\x00\\r\\x11\\x13\\x04\\t\\x00\\r\\x07\\x13\\x14\\x00\\r\\x11\\x13\\x04\\x14\\x00\\r\\x10\\x13\\x14\\x00\\r\\x07\\x13\\x04\\x0e\\x00\\r\\x11\\x13\\x14\\x00\\r\\x07\\x13\\x04\\t\\x00\\r\\x07\\x19\\x00\\r\\x11\\x06\\x00\\r\\x11\\x06\\x00\\r\\x11\\x0c\\x00',\n",
       " 'BGC0000102.1': '\\r\\x11\\x06\\x00\\r\\x07\\x13\\x14\\x00\\r\\x07\\x13\\t\\x00\\r\\x11\\x12\\x00\\r\\x11\\x13\\x04\\x14\\x00\\r\\x11\\x06\\x00\\r\\x07\\x13\\x14\\x00\\x17',\n",
       " 'BGC0000105.1': '\\r\\x11\\x13\\x19\\x00\\r\\x11\\x13\\x04\\x14\\x00\\r\\x07\\x13\\x14\\x00\\r\\x11\\x13\\x04\\x14\\x00\\r\\x11\\x12\\x00\\r\\x07\\x13\\x04\\t\\x00\\r\\x11\\x13\\x14\\x00\\r\\x07\\x13\\x04\\x14\\x00\\r\\x07\\x19\\x00\\r\\x11\\x06\\x00\\r\\x11\\x06\\x00\\r\\x11\\x13\\x14\\x00',\n",
       " 'BGC0000106.1': '\\r\\x11\\x14\\x00\\r\\x07\\x00\\r\\x11\\x19\\x00\\r\\x11\\x13\\x14\\x00\\r\\x11\\x14\\x00\\r\\x07\\x13\\x14\\x00\\r\\x07\\x14\\x00\\r\\x11\\x00\\r\\x07\\x00\\r\\x11\\x14\\x00\\r\\x07\\x13\\x14\\x00\\r\\x07\\x13\\t\\x00\\r\\x11\\x13\\t\\x00',\n",
       " 'BGC0000113.1': '\\r\\x07\\x14\\x00\\r\\x07\\x13\\x14\\x00\\r\\x07\\x13\\x14\\x00\\r\\x11\\x12\\x00\\r\\x10\\x13\\x04\\x14\\x00\\r\\n\\x06\\x00\\r\\x07\\x06\\x00\\x18',\n",
       " 'BGC0000093.1': '\\r\\x11\\x14\\x00\\r\\x07\\x13\\x04\\x14\\x00\\r\\x07\\x00\\r\\x07\\x14\\x00\\r\\x07\\x06\\x00\\r\\x11\\x13\\x14\\x00\\r\\x11\\x13\\x04\\x14\\x00\\r\\x07\\x13\\x14\\x00\\r\\x11\\x13\\x14\\x00\\r\\x07\\x19\\x00\\r\\x11\\x19\\x00\\r\\x07\\x13\\x14\\x00\\x18',\n",
       " 'BGC0000094.1': '\\r\\x11\\x0c\\x00\\r\\x07\\x13\\x02\\x00\\r\\x11\\x12\\x00\\r\\x11\\x13\\x04\\t\\x00\\r\\x11\\x06\\x00\\r\\x11\\x00\\x17',\n",
       " 'BGC0000109.1': '\\r\\x11\\x14\\x00\\r\\x11\\x14\\x00\\r\\x07\\x13\\x04\\x14\\x00\\r\\x07\\x00\\r\\x07\\x14\\x00\\r\\x07\\x06\\x00\\r\\x11\\x13\\x14\\x00\\r\\x11\\x13\\x04\\x14\\x00\\r\\x07\\x13\\x14\\x00\\r\\x11\\x13\\x14\\x00\\r\\x07\\x14\\x00\\r\\x11\\x14\\x00\\r\\x07\\x13\\x14\\x00\\x17',\n",
       " 'BGC0000126.1': '\\r\\x11\\x06\\x00\\r\\x07\\x13\\x14\\x00\\r\\x11\\x13\\x04\\x14\\x00\\r\\x07\\x13\\x14\\x00\\r\\x11\\x13\\x14\\x00\\r\\x11\\x14\\x00\\r\\x07\\x13\\x14\\x00\\r\\x11\\x06\\x00\\r\\x07\\x13\\x04\\x14\\x00\\r\\x07\\x14\\x00\\x17',\n",
       " 'BGC0000136.1': '\\r\\x11\\x13\\x14\\x00\\r\\x07\\x00\\r\\x11\\x19\\x00\\r\\x11\\x13\\x14\\x00\\r\\x11\\x16\\x00\\r\\x11\\x13\\x14\\x00\\r\\x11\\x13\\x16\\x00\\r\\x11\\x13\\x14\\x00\\r\\x07\\x13\\x14\\x00\\r\\x11\\x13\\t\\x00',\n",
       " 'BGC0000115.1': '\\r\\x11\\x16\\x00\\r\\x11\\x06\\x00\\r\\x07\\x13\\x14\\x00\\r\\x07\\x13\\x14\\x00\\r\\x07\\x13\\x04\\x14\\x00\\r\\x07\\x13\\x14\\x00\\r\\x07\\x13\\x14\\x00\\r\\x07\\x13\\x14\\x00\\r\\x07\\x13\\x14\\x00\\r\\x07\\x06\\x00\\r\\x11\\x16\\x00\\r\\x07\\x06\\x00\\r\\x07\\x19\\x00\\r\\x07\\x14\\x00\\r\\x07\\x13\\x04\\x14\\x00\\r\\x07\\x14\\x00\\r\\x07\\x14\\x00\\r\\x07\\x14\\x00\\x17',\n",
       " 'BGC0000144.1': '\\r\\x10\\x13\\x14\\x00\\r\\x07\\x13\\x04\\x14\\x00\\r\\x11\\x13\\x14\\x00\\r\\x07\\x13\\x04\\x14\\x00\\r\\x07\\x00\\r\\x07\\x06\\x00\\r\\x11\\x19\\x00\\r\\x11\\x13\\x04\\x14\\x00\\r\\x10\\t\\x00\\r\\x11\\x00\\r\\x11\\x0c\\x00\\r\\x11\\x16\\x00\\r\\x07\\x13\\x04\\t\\x00\\r\\x10\\x16\\x00',\n",
       " 'BGC0000135.1': '\\r\\x07\\x14\\x00\\r\\x11\\x13\\x14\\x00\\r\\x07\\x13\\x14\\x00\\r\\x05\\x06\\x00\\r\\x07\\x13\\x04\\x14\\x00\\r\\x07\\x06\\x00\\r\\x11\\x13\\x04\\x14\\x00\\r\\x07\\x06\\x00\\r\\x11\\x13\\x14\\x00\\r\\x07\\x13\\x14\\x00\\r\\x11\\x06\\x00\\r\\x07\\x13\\x14\\x00\\x18',\n",
       " 'BGC0000148.1': '\\r\\x07\\x16\\x00\\r\\x07\\x13\\x04\\x14\\x00\\r\\x11\\x06\\x00\\r\\x07\\x06\\x00\\r\\x07\\x13\\x0e\\x00\\r\\x07\\x06\\x00\\r\\x07\\x06\\x00\\r\\x11\\x13\\x14\\x00\\r\\x07\\x13\\x14\\x00\\r\\x07\\x13\\x14\\x00\\x17',\n",
       " 'BGC0000157.1': '\\r\\x11\\x14\\x00\\r\\x07\\x06\\x00\\r\\x11\\x13\\x19\\x00\\r\\x07\\x14\\x00\\r\\x11\\x13\\x04\\x14\\x00\\r\\x11\\x13\\x04\\t\\x00\\r\\x07\\x13\\x04\\x14\\x00\\r\\x10\\x13\\x14\\x00\\r\\x07\\x06\\x00\\x18',\n",
       " 'BGC0000122.1': '\\r\\x10\\x13\\x14\\x00\\r\\x07\\x13\\x14\\x00\\r\\x07\\x00\\r\\x07\\x13\\t\\x00',\n",
       " 'BGC0000123.1': '\\r\\x07\\x13\\x06\\x00\\r\\x07\\x13\\x06\\x00\\r\\x07\\x06\\x00\\r\\x10\\x14\\x00\\r\\x07\\x13\\x14\\x00\\r\\x10\\x06\\x00\\r\\x07\\x06\\x00\\x18',\n",
       " 'BGC0000970.1': '\\r\\x11\\x13\\x04\\x14\\x00\\r\\x11\\x06\\x00\\r\\x11\\x00\\r\\x0b\\x13\\x14\\x00\\r\\x0b\\t\\x08',\n",
       " 'BGC0000166.1': '\\r\\x11\\x14\\x00\\r\\x11\\x13\\x14\\x00\\r\\x07\\x13\\x14\\x00\\r\\x11\\x12\\x00\\r\\x10\\x13\\x04\\x14\\x00\\r\\x11\\x06\\x00\\r\\x07\\x06\\x00\\x17',\n",
       " 'BGC0001004.1': '\\r\\x11\\x13\\x14\\x00\\r\\x07\\x13\\x14\\x00\\r\\x11\\x13\\x14\\x00\\r\\x07\\x13\\x19\\x00\\r\\x11\\x13\\x14\\x00\\r\\x07\\x13\\x14\\x00\\r\\x07\\x13\\x14\\x00\\r\\x11\\x13\\x14\\x00\\r\\x07\\x19\\x00\\r\\x11\\x13\\x04\\x14\\x00\\r\\x11\\x13\\x14\\x00',\n",
       " 'BGC0001052.1': '\\r\\x11\\x19\\x00\\r\\x07\\x14\\x00\\r\\x11\\x13\\x14\\x00\\r\\x11\\x16\\x00\\r\\x11\\x13\\t\\x00\\r\\x07\\x13\\t\\x00\\r\\x07\\x00',\n",
       " 'BGC0001003.1': '\\r\\x11\\x16\\x00\\r\\x11\\x13\\x14\\x00\\r\\x07\\x13\\x14\\x00\\r\\x07\\x13\\x14\\x00\\r\\x07\\x13\\x14\\x00\\r\\x07\\x13\\x14\\x00\\r\\x07\\x00',\n",
       " 'BGC0001046.1': '\\r\\x11\\x19\\x00\\r\\x07\\x14\\x00\\r\\x11\\x13\\x14\\x00\\r\\x11\\x16\\x00\\r\\x11\\x13\\x14\\x00\\r\\x07\\x13\\x14\\x00\\r\\x07\\x19\\x00',\n",
       " 'BGC0001012.1': '\\r\\x11\\x06\\x00\\r\\x11\\x13\\x14\\x00\\r\\x07\\x14\\x00\\r\\x10\\x13\\x14\\x00\\r\\x11\\x12\\x00\\r\\x11\\x13\\x04\\x14\\x00\\r\\x11\\x13\\x14\\x00\\r\\x07\\x06\\x00\\r\\x07\\x14\\x00\\r\\x11\\x0c\\x00\\r\\x07\\x06\\x00\\r\\x07\\x14\\x00\\r\\x11\\x13\\x04\\x14\\x00\\r\\x07\\x13\\x19\\x00',\n",
       " 'BGC0001072.1': '\\r\\x07\\x13\\x14\\x00\\r\\x07\\x14\\x00\\r\\x07\\x13\\x14\\x00\\r\\x07\\x00\\x18',\n",
       " 'BGC0001119.1': '\\r\\x11\\x13\\x14\\x00\\r\\x07\\x00\\r\\x07\\x19\\x00\\r\\x10\\x13\\x04\\x14\\x00\\r\\x07\\x13\\x14\\x00\\r\\x03\\x13\\x04\\x14\\x00\\r\\x11\\x00\\r\\x07\\x13\\x14\\x00',\n",
       " 'BGC0001235.1': '\\r\\x07\\x06\\x00\\r\\x11\\x0c\\x00\\r\\x11\\x13\\x14\\x00',\n",
       " 'BGC0001172.1': '\\r\\x15\\x13\\x19\\x00\\r\\x07\\x00',\n",
       " 'BGC0001296.1': '\\r\\x07\\x13\\x14\\x00\\r\\x07\\x13\\x14\\x00\\r\\x07\\x13\\x14\\x00\\r\\x07\\x13\\x19\\x00\\r\\x07\\x13\\x14\\x00',\n",
       " 'BGC0001359.1': '\\r\\x11\\x16\\x00\\r\\x11\\x06\\x00\\r\\x11\\x16\\x00\\r\\x11\\x14\\x00\\r\\x07\\x14\\x00\\r\\x07\\x13\\x14\\x00\\r\\x07\\x13\\x04\\x14\\x00\\r\\x07\\x14\\x00\\r\\x07\\x14\\x00\\r\\x07\\x06\\x00\\r\\x07\\x14\\x00\\r\\x07\\x06\\x00\\r\\x07\\x00\\r\\x11\\x0c\\x00\\r\\x07\\x13\\x04\\x14\\x00',\n",
       " 'BGC0001381.1': '\\r\\x07\\x13\\x04\\t\\x00\\r\\x07\\x14\\x00\\r\\x07\\x14\\x00\\r\\x11\\x00\\r\\x11\\x16\\x00\\r\\x11\\x06\\x00\\r\\x11\\x16\\x00\\r\\x11\\t\\x00\\r\\x07\\x13\\t\\x00\\r\\x07\\x14\\x00\\r\\x07\\x06\\x00\\r\\x07\\x13\\x00\\r\\x11\\x0c\\x00\\r\\x07\\x13\\x04\\t\\x00\\r\\x07\\x06\\x00\\r\\x11\\x0c\\x00\\r\\x07\\x0c\\x00\\r\\x07\\x13\\t\\x00\\x18',\n",
       " 'BGC0000047.1': '\\r\\x11\\x14\\x00\\r\\x07\\x13\\x14\\x00\\r\\x07\\x13\\x14\\x00\\r\\x11\\x12\\x00\\r\\x11\\x13\\x04\\x14\\x00\\r\\x11\\x06\\x00\\r\\x07\\x00\\x17',\n",
       " 'BGC0000103.1': '\\r\\x07\\x14\\x00\\r\\x11\\x0c\\x00\\r\\x11\\x13\\x14\\x00\\r\\x11\\x13\\x04\\x14\\x00\\r\\x07\\x06\\x00\\r\\x11\\x13\\x14\\x00\\r\\x11\\x13\\x04\\x14\\x00\\r\\x07\\x14\\x00\\r\\x07\\x13\\x04\\x14\\x00',\n",
       " 'BGC0000114.1': '\\r\\x07\\x00\\r\\x11\\x13\\x00\\r\\x11\\x13\\x04\\x14\\x00\\r\\x07\\x13\\x14\\x00\\r\\x11\\x13\\x04\\x14\\x00\\r\\x11\\x13\\x14\\x00\\r\\x07\\x13\\x04\\x14\\x00\\r\\x11\\x13\\x14\\x00\\r\\x11\\x13\\x14\\x00\\r\\x11\\x13\\x04\\x14\\x00\\r\\x11\\x12\\x00\\r\\x07\\x06\\x00\\r\\x07\\x06\\x00\\r\\x07\\x06\\x00',\n",
       " 'BGC0000158.1': '\\r\\x11\\x14\\x00\\r\\x07\\x06\\x00\\r\\x11\\x13\\x19\\x00\\r\\x07\\x14\\x00\\r\\x11\\x13\\x04\\x14\\x00\\r\\x11\\x13\\x04\\x14\\x00\\r\\x07\\x13\\x04\\x14\\x00\\r\\x10\\x13\\x14\\x00\\r\\x07\\x06\\x00\\x18',\n",
       " 'BGC0000994.1': '\\r\\x11\\x13\\x14\\x00\\r\\x11\\x0c\\x00\\r\\x07\\x14\\x00\\r\\x10\\x00\\r\\x11\\x13\\x14\\x00\\r\\x11\\x13\\x04\\x14\\x00\\r\\n\\x13\\x04\\x14\\x00\\r\\n\\x14\\x00\\r\\x11\\x13\\x04\\x14\\x00\\r\\x07\\x00',\n",
       " 'BGC0001040.1': '\\r\\x11\\x13\\x04\\x14\\x00\\r\\x07\\x02\\x00\\r\\x11\\x12\\x00\\r\\x11\\x13\\x14\\x00\\r\\x07\\x02\\x00\\r\\x11\\x12\\x00\\r\\x11\\x13\\x04\\x14\\x00\\r\\x07\\x13\\x02\\x00\\r\\x07\\x13\\x14\\x00\\r\\x11\\x13\\x14\\x00\\r\\x07\\x02\\x00\\r\\x07\\x02\\x00\\r\\x11\\x13\\x04\\x14\\x00\\r\\x07\\x00',\n",
       " 'BGC0001065.1': '\\r\\x11\\x06\\x00\\r\\x11\\x13\\t\\x00\\r\\x11\\x13\\x04\\x14\\x00\\r\\x07\\x13\\x14\\x00\\r\\x11\\x13\\x14\\x00\\r\\x11\\x14\\x00\\r\\x07\\x13\\x04\\x14\\x00\\r\\x07\\x13\\x14\\x00\\x18',\n",
       " 'BGC0000116.1': '\\r\\x11\\x16\\x00\\r\\x11\\x06\\x00\\r\\x07\\x13\\x14\\x00\\r\\x07\\x13\\x14\\x00\\r\\x07\\x13\\x04\\x14\\x00\\r\\x07\\x13\\x14\\x00\\r\\x07\\x13\\x14\\x00\\r\\x07\\x13\\x14\\x00\\r\\x07\\x13\\x14\\x00\\r\\x07\\x06\\x00\\r\\x11\\x16\\x00\\r\\x07\\x14\\x00\\r\\x07\\x19\\x00\\r\\x07\\x14\\x00\\r\\x07\\x13\\x04\\x14\\x00\\r\\x07\\x14\\x00\\r\\x07\\x14\\x00\\r\\x07\\x14\\x00\\x17',\n",
       " 'BGC0001396.1': '\\r\\x11\\x12\\x00\\r\\x11\\x14\\x00\\r\\x07\\x13\\x14\\x00\\r\\x07\\x13\\x14\\x00\\r\\x11\\x12\\x00\\r\\x11\\x13\\x04\\x14\\x00\\r\\x11\\x06\\x00\\r\\x07\\x00\\x18',\n",
       " 'BGC0000165.1': '\\r\\x07\\x14\\x00\\r\\x11\\x13\\x14\\x00\\r\\x11\\x13\\x14\\x00\\r\\x10\\x06\\x00\\r\\x11\\x13\\x14\\x00\\r\\x07\\x14\\x00\\r\\x07\\x13\\x0e\\x00\\r\\x11\\x13\\x14\\x00\\x17',\n",
       " 'BGC0000059.1': '\\r\\x07\\x14\\x00\\r\\x07\\x13\\x14\\x00\\r\\x07\\x13\\x14\\x00\\r\\x07\\x13\\x14\\x00\\r\\x07\\x13\\x14\\x00\\r\\x11\\x13\\x14\\x00\\r\\x07\\x14\\x00\\r\\x07\\x06\\x00\\r\\x07\\x06\\x00\\r\\x07\\x06\\x00\\r\\x07\\x06\\x00\\r\\x07\\x06\\x00\\r\\x01\\t\\x00\\x17',\n",
       " 'BGC0000085.1': '\\r\\x11\\x0c\\x00\\r\\x11\\x06\\x00\\r\\x11\\x12\\x00\\r\\x11\\x13\\x04\\x14\\x00\\r\\x11\\x06\\x00\\r\\x11\\x06\\x00\\x18',\n",
       " 'BGC0001287.1': '\\r\\x11\\x13\\x14\\x00\\r\\x07\\x13\\x00\\r\\x11\\x19\\x00\\r\\x11\\x13\\x14\\x00\\r\\x11\\x13\\t\\x00\\r\\x11\\x13\\t\\x00\\r\\x11\\x13\\x14\\x00\\r\\x07\\x13\\x14\\x00\\r\\x07\\x13\\t\\x00',\n",
       " 'BGC0000002.1': '\\r\\x11\\x06\\x00\\r\\x07\\x13\\x04\\t\\x00\\r\\x07\\x14\\x00\\r\\x07\\x13\\x04\\t\\x00\\r\\x11\\x0c\\x00\\r\\x07\\x13\\x14\\x00\\r\\x07\\x13\\t\\x00\\r\\x11\\x14\\x00\\r\\x07\\x06\\x00\\r\\x07\\t\\x00\\r\\x11\\x06\\x00\\r\\x07\\x14\\x00\\r\\x07\\x06\\x00\\r\\x07\\x13\\x00\\r\\x11\\x14\\x00\\r\\x07\\x13\\x04\\t\\x00\\r\\x07\\x14\\x00\\r\\x07\\x14\\x00\\r\\x07\\x13\\t\\x00\\r\\x11\\x13\\t\\x00\\x18'}"
      ]
     },
     "execution_count": 18,
     "metadata": {},
     "output_type": "execute_result"
    }
   ],
   "source": [
    "pksDesignStrings"
   ]
  },
  {
   "cell_type": "code",
   "execution_count": 19,
   "metadata": {},
   "outputs": [
    {
     "data": {
      "text/plain": [
       "[('BGC0000058.1', 0, 0),\n",
       " ('BGC0000028.1', 18, 0),\n",
       " ('BGC0000126.1', 18, 0),\n",
       " ('BGC0001004.1', 18, 0),\n",
       " ('BGC0000036.1', 19, 0),\n",
       " ('BGC0000109.1', 19, 0),\n",
       " ('BGC0000105.1', 20, 0),\n",
       " ('BGC0000084.1', 21, 0),\n",
       " ('BGC0000106.1', 22, 0),\n",
       " ('BGC0000135.1', 22, 0),\n",
       " ('BGC0000100.1', 23, 0),\n",
       " ('BGC0000093.1', 23, 0),\n",
       " ('BGC0000148.1', 23, 0),\n",
       " ('BGC0001012.1', 23, 0),\n",
       " ('BGC0001359.1', 23, 0),\n",
       " ('BGC0000103.1', 23, 0),\n",
       " ('BGC0000136.1', 24, 0),\n",
       " ('BGC0000158.1', 24, 0),\n",
       " ('BGC0001065.1', 24, 0),\n",
       " ('BGC0000157.1', 25, 0),\n",
       " ('BGC0000994.1', 25, 0),\n",
       " ('BGC0000165.1', 25, 0),\n",
       " ('BGC0000087.1', 26, 0),\n",
       " ('BGC0000086.1', 26, 0),\n",
       " ('BGC0000114.1', 26, 0),\n",
       " ('BGC0000059.1', 26, 0),\n",
       " ('BGC0000075.1', 27, 0),\n",
       " ('BGC0000050.1', 27, 0),\n",
       " ('BGC0001119.1', 27, 0),\n",
       " ('BGC0001287.1', 27, 0),\n",
       " ('BGC0001003.1', 28, 0),\n",
       " ('BGC0001040.1', 28, 0),\n",
       " ('BGC0000073.1', 29, 0),\n",
       " ('BGC0001396.1', 30, 0),\n",
       " ('BGC0000018.1', 31, 0),\n",
       " ('BGC0000020.1', 31, 0),\n",
       " ('BGC0000066.1', 31, 0),\n",
       " ('BGC0000067.1', 31, 0),\n",
       " ('BGC0000074.1', 31, 0),\n",
       " ('BGC0000102.1', 31, 0),\n",
       " ('BGC0000031.1', 32, 0),\n",
       " ('BGC0000035.1', 32, 0),\n",
       " ('BGC0000060.1', 32, 0),\n",
       " ('BGC0000090.1', 32, 0),\n",
       " ('BGC0000144.1', 32, 0),\n",
       " ('BGC0000166.1', 32, 0),\n",
       " ('BGC0001046.1', 32, 0),\n",
       " ('BGC0000047.1', 32, 0),\n",
       " ('BGC0000015.1', 33, 0),\n",
       " ('BGC0000115.1', 33, 0),\n",
       " ('BGC0000116.1', 33, 0),\n",
       " ('BGC0000113.1', 34, 0),\n",
       " ('BGC0001052.1', 34, 0),\n",
       " ('BGC0001296.1', 35, 0),\n",
       " ('BGC0000001.1', 36, 0),\n",
       " ('BGC0000038.1', 36, 0),\n",
       " ('BGC0000123.1', 36, 0),\n",
       " ('BGC0000032.1', 37, 0),\n",
       " ('BGC0000054.1', 37, 0),\n",
       " ('BGC0000055.1', 37, 0),\n",
       " ('BGC0000094.1', 37, 0),\n",
       " ('BGC0000092.1', 38, 0),\n",
       " ('BGC0000085.1', 38, 0),\n",
       " ('BGC0000049.1', 40, 0),\n",
       " ('BGC0001072.1', 41, 0),\n",
       " ('BGC0000122.1', 42, 0),\n",
       " ('BGC0000970.1', 42, 0),\n",
       " ('BGC0001381.1', 42, 0),\n",
       " ('BGC0000002.1', 45, 0),\n",
       " ('BGC0001235.1', 47, 0),\n",
       " ('BGC0000041.1', 50, 0),\n",
       " ('BGC0001172.1', 52, 0)]"
      ]
     },
     "execution_count": 19,
     "metadata": {},
     "output_type": "execute_result"
    }
   ],
   "source": [
    "def alignAll(query, tryTruncations=False):\n",
    "    # align query against all PKSs and return a sorted tuple of (mibig, editDistance)\n",
    "    results = []\n",
    "    for key, value in pksDesignStrings.items():\n",
    "        bestResult = (key, Levenshtein.distance(query, value), 0)\n",
    "\n",
    "        if tryTruncations:\n",
    "            for truncation in range(1,len(value)):\n",
    "                newResult = (key, Levenshtein.distance(query, value[0:-truncation]), truncation)\n",
    "                if newResult[1] < bestResult[1]:\n",
    "                    bestResult = newResult\n",
    "        \n",
    "        results.append(bestResult)\n",
    "        \n",
    "    return sorted(results, key=lambda x: x[1])\n",
    "\n",
    "alignAll(pksDesignStrings['BGC0000058.1'])"
   ]
  },
  {
   "cell_type": "markdown",
   "metadata": {},
   "source": [
    "## Perform an alignment for a new design"
   ]
  },
  {
   "cell_type": "code",
   "execution_count": 20,
   "metadata": {},
   "outputs": [],
   "source": [
    "# for this design we know we won't find the TE or starting module in the right place, so we'll align just modules 1 and 2\n",
    "\n",
    "queryDesign = [\n",
    "    # 'KS_domain',\n",
    "    # 'AT_substrate amal, loading',\n",
    "    # 'ACP_domain',\n",
    "    'KS_domain'\n",
    "    'AT_substrate mal, non-loading',\n",
    "    'DH_active',\n",
    "    'ER_active',\n",
    "    'KR_type B1, active',\n",
    "    'ACP_domain',    \n",
    "    'AT_substrate allylmal, non-loading',\n",
    "    'DH_active',\n",
    "    'ER_active',\n",
    "    'KR_type B1, active',\n",
    "    'ACP_domain', \n",
    "    # 'TE_cyclic',\n",
    "]"
   ]
  },
  {
   "cell_type": "code",
   "execution_count": 21,
   "metadata": {},
   "outputs": [
    {
     "data": {
      "text/plain": [
       "'\\x1b\\x13\\x04\\x14\\x00\\x1c\\x13\\x04\\x14\\x00'"
      ]
     },
     "execution_count": 21,
     "metadata": {},
     "output_type": "execute_result"
    }
   ],
   "source": [
    "# convert query design into a text string\n",
    "queryString = ''\n",
    "newCharCounter = len(lookupTable) # start with new chars after end of lookup table\n",
    "for domain in queryDesign:\n",
    "    if domain in lookupTable.keys():\n",
    "        queryString = queryString + lookupTable[domain]\n",
    "    else:\n",
    "        newCharCounter += 1\n",
    "        queryString = queryString + chr(newCharCounter)\n",
    "queryString"
   ]
  },
  {
   "cell_type": "code",
   "execution_count": 22,
   "metadata": {},
   "outputs": [
    {
     "name": "stdout",
     "output_type": "stream",
     "text": [
      "CPU times: user 10 ms, sys: 10 ms, total: 20 ms\n",
      "Wall time: 20 ms\n"
     ]
    },
    {
     "data": {
      "text/plain": [
       "[('BGC0000066.1', 4, 24),\n",
       " ('BGC0000067.1', 4, 24),\n",
       " ('BGC0000074.1', 4, 24),\n",
       " ('BGC0000090.1', 4, 24),\n",
       " ('BGC0000032.1', 5, 14),\n",
       " ('BGC0000087.1', 5, 40),\n",
       " ('BGC0000086.1', 5, 40),\n",
       " ('BGC0000093.1', 5, 46),\n",
       " ('BGC0000144.1', 5, 53),\n",
       " ('BGC0000036.1', 6, 46)]"
      ]
     },
     "execution_count": 22,
     "metadata": {},
     "output_type": "execute_result"
    }
   ],
   "source": [
    "%%time\n",
    "# perform alignment\n",
    "topHits = alignAll(queryString, True)[0:10]\n",
    "topHits"
   ]
  },
  {
   "cell_type": "code",
   "execution_count": 23,
   "metadata": {},
   "outputs": [
    {
     "name": "stdout",
     "output_type": "stream",
     "text": [
      "BGC0000066.1\n",
      "truncation: 24\n",
      "['KS_domain', 'AT_substrate mmal, non-loading', 'DH_active', 'ER_active', 'KR_type B1, active', 'ACP_domain', 'KS_domain', 'AT_substrate mxmal_ACP, non-loading', 'DH_active', 'ER_active', 'KR_type B1, active', 'ACP_domain']\n",
      "BGC0000067.1\n",
      "truncation: 24\n",
      "['KS_domain', 'AT_substrate mmal, non-loading', 'DH_active', 'ER_active', 'KR_type B1, active', 'ACP_domain', 'KS_domain', 'AT_substrate mxmal_ACP, non-loading', 'DH_active', 'ER_active', 'KR_type B1, active', 'ACP_domain']\n",
      "BGC0000074.1\n",
      "truncation: 24\n",
      "['KS_domain', 'AT_substrate mmal, non-loading', 'DH_active', 'ER_active', 'KR_type B1, active', 'ACP_domain', 'KS_domain', 'AT_substrate mxmal_ACP, non-loading', 'DH_active', 'ER_active', 'KR_type B1, active', 'ACP_domain']\n",
      "BGC0000090.1\n",
      "truncation: 24\n",
      "['KS_domain', 'AT_substrate mmal, non-loading', 'DH_active', 'ER_active', 'KR_type B1, active', 'ACP_domain', 'KS_domain', 'AT_substrate mxmal_ACP, non-loading', 'DH_active', 'ER_active', 'KR_type B1, active', 'ACP_domain']\n",
      "BGC0000032.1\n",
      "truncation: 14\n",
      "['KS_domain', 'AT_substrate mmal, non-loading', 'KR_type B1, active', 'ACP_domain', 'KS_domain', 'AT_substrate mmal, non-loading', 'DH_active', 'ER_active', 'KR_type B1, active', 'ACP_domain']\n",
      "BGC0000087.1\n",
      "truncation: 40\n",
      "['KS_domain', 'AT_substrate emal, non-loading', 'DH_active', 'KR_type B1, active', 'ACP_domain', 'KS_domain', 'AT_substrate mal, non-loading', 'DH_active', 'ER_active', 'KR_type B1, active', 'ACP_domain']\n",
      "BGC0000086.1\n",
      "truncation: 40\n",
      "['KS_domain', 'AT_substrate emal, non-loading', 'DH_active', 'KR_type B1, active', 'ACP_domain', 'KS_domain', 'AT_substrate mal, non-loading', 'DH_active', 'ER_active', 'KR_type B1, active', 'ACP_domain']\n",
      "BGC0000093.1\n",
      "truncation: 46\n",
      "['KS_domain', 'AT_substrate mmal, non-loading', 'KR_type B1, active', 'ACP_domain', 'KS_domain', 'AT_substrate mal, non-loading', 'DH_active', 'ER_active', 'KR_type B1, active', 'ACP_domain']\n",
      "BGC0000144.1\n",
      "truncation: 53\n",
      "['KS_domain', 'AT_substrate emal, non-loading', 'DH_active', 'KR_type B1, active', 'ACP_domain', 'KS_domain', 'AT_substrate mal, non-loading', 'DH_active', 'ER_active', 'KR_type B1, active', 'ACP_domain']\n",
      "BGC0000036.1\n",
      "truncation: 46\n",
      "['KS_domain', 'AT_substrate mmal, non-loading', 'DH_active', 'KR_type B1, active', 'ACP_domain', 'KS_domain', 'AT_substrate mal, non-loading', 'DH_active', 'KR_type B1, active', 'ACP_domain']\n"
     ]
    }
   ],
   "source": [
    "# print architeture of top hits\n",
    "for hit in topHits:\n",
    "    print(hit[0])\n",
    "    print('truncation: ' + str(hit[2]))\n",
    "    print(allPKSDesigns[hit[0]][0:-hit[2]])"
   ]
  }
 ],
 "metadata": {
  "kernelspec": {
   "display_name": "Python 3",
   "language": "python",
   "name": "python3"
  },
  "language_info": {
   "codemirror_mode": {
    "name": "ipython",
    "version": 3
   },
   "file_extension": ".py",
   "mimetype": "text/x-python",
   "name": "python",
   "nbconvert_exporter": "python",
   "pygments_lexer": "ipython3",
   "version": "3.7.3"
  }
 },
 "nbformat": 4,
 "nbformat_minor": 2
}
