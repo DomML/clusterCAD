{
 "cells": [
  {
   "cell_type": "markdown",
   "metadata": {},
   "source": [
    "# Export DH sequences from ClusterCAD\n",
    "\n",
    "Note: this notebook must be run inside of a working version of ClusterCAD\n",
    "\n",
    "Tyler W. H. Backman"
   ]
  },
  {
   "cell_type": "code",
   "execution_count": 1,
   "metadata": {
    "collapsed": true
   },
   "outputs": [],
   "source": [
    "import os, sys\n",
    "import re\n",
    "sys.path.insert(0, '/clusterCAD')\n",
    "os.environ.setdefault(\"DJANGO_SETTINGS_MODULE\", \"clusterCAD.settings\")\n",
    "import django\n",
    "django.setup()\n",
    "import pks.models"
   ]
  },
  {
   "cell_type": "code",
   "execution_count": 2,
   "metadata": {
    "collapsed": true
   },
   "outputs": [],
   "source": [
    "from Bio import Seq, SeqRecord, SeqIO\n",
    "from Bio.Alphabet import IUPAC\n",
    "from Bio import pairwise2\n",
    "import pandas as pd"
   ]
  },
  {
   "cell_type": "markdown",
   "metadata": {},
   "source": [
    "Get all PKS modules from ClusterCAD"
   ]
  },
  {
   "cell_type": "code",
   "execution_count": 3,
   "metadata": {},
   "outputs": [
    {
     "data": {
      "text/plain": [
       "737"
      ]
     },
     "execution_count": 3,
     "metadata": {},
     "output_type": "execute_result"
    }
   ],
   "source": [
    "allModules = pks.models.Module.objects.all()\n",
    "len(allModules)"
   ]
  },
  {
   "cell_type": "markdown",
   "metadata": {},
   "source": [
    "Identify only modules that have the following properties:\n",
    "* must contain the following domains: 'AT', 'DH', 'KR', 'ACP'\n",
    "* KR must be active, e.g. one of types 'A1', 'A2', 'A', 'B1', 'B2', 'B', 'U'\n",
    "* module must be a non-loading module\n",
    "* DH must be active"
   ]
  },
  {
   "cell_type": "code",
   "execution_count": 4,
   "metadata": {},
   "outputs": [
    {
     "data": {
      "text/plain": [
       "330"
      ]
     },
     "execution_count": 4,
     "metadata": {},
     "output_type": "execute_result"
    }
   ],
   "source": [
    "myModules = []\n",
    "for module in allModules:\n",
    "    domains = module.domains()\n",
    "    domainTypes = {repr(x) for x in domains}\n",
    "    \n",
    "    # require module to contain an AT, DH, KR, and ACP at least\n",
    "    if len(domainTypes.intersection({'AT', 'DH', 'KR', 'ACP'})) != 4:\n",
    "        continue\n",
    "    \n",
    "    # require KR to be active\n",
    "    thiskr = list(filter(lambda d: repr(d) == 'KR', domains))[0]\n",
    "    if thiskr.type not in ['A1', 'A2', 'A', 'B1', 'B2', 'B', 'U']:\n",
    "        continue\n",
    "        \n",
    "    # require module to be non-loading\n",
    "    if module.loading:\n",
    "        continue \n",
    "        \n",
    "    # require DH to be active\n",
    "    thisdh = list(filter(lambda d: repr(d) == 'DH', domains))[0]\n",
    "    if not thisdh.active:\n",
    "        continue\n",
    "    \n",
    "    myModules.append(module)\n",
    "len(myModules)\n",
    "\n",
    "assert len(list(set([x.id for x in myModules]))) == len(myModules)\n",
    "len(myModules)"
   ]
  },
  {
   "cell_type": "markdown",
   "metadata": {},
   "source": [
    "Export DH sequences to a FASTA file starting from the residue immediately after the end of the AT until the residue immediately before the start of the next domain (ER or KR)"
   ]
  },
  {
   "cell_type": "code",
   "execution_count": 5,
   "metadata": {},
   "outputs": [],
   "source": [
    "name = \"DHs\"\n",
    "lengths = []\n",
    "sequences = {}\n",
    "annotations = []\n",
    "with open(name + '.fasta', 'w') as f:\n",
    "    for module in myModules:\n",
    "        \n",
    "        # get domain objects\n",
    "        domains = module.domains()\n",
    "        domainAT = list(filter(lambda d: repr(d) == 'AT', domains))[0]\n",
    "        domainDH = list(filter(lambda d: repr(d) == 'DH', domains))[0]\n",
    "        \n",
    "        # get next domain after DH\n",
    "        index = list(domains).index(domainDH)\n",
    "        nextDomain = domains[index + 1]\n",
    "        \n",
    "        # confirm that AT comes before the post-DH domain and get AA sequence\n",
    "        assert domainAT.stop < nextDomain.start\n",
    "        sequence = module.subunit.getAminoAcidSequence()\n",
    "        sequence = sequence[domainAT.stop:(nextDomain.start - 1)]\n",
    "        lengths.append(len(sequence))\n",
    "        \n",
    "        # strip whitespace from subunit name\n",
    "        subunitName = re.sub(r'\\s+', '', str(module.subunit.name))\n",
    "        \n",
    "        # write FASTA\n",
    "        moduleTitle = name + '_' + module.subunit.cluster.mibigAccession + '_' + subunitName + '_mod' + str(module.order)\n",
    "        sequences[module.id] = sequence\n",
    "        sseq = SeqRecord.SeqRecord(Seq.Seq(sequence, IUPAC.protein),\n",
    "                                       id=moduleTitle,\n",
    "                                       name='',\n",
    "                                       description=''\n",
    "                                      )\n",
    "        SeqIO.write(sseq, f, \"fasta\")\n",
    "        \n",
    "        # create PANDAS series with annotation data\n",
    "        annotations.append(pd.Series(\n",
    "            data = [module.subunit.cluster.mibigAccession,\n",
    "                    subunitName,\n",
    "                    module.order,\n",
    "                    domainAT.substrate,\n",
    "                    len(sequence),\n",
    "                    module.product.smiles,\n",
    "                    moduleTitle],\n",
    "            index = ['mibig_accession',\n",
    "                     'subunit_name',\n",
    "                     'module_number',\n",
    "                     'at_substrate',\n",
    "                     'length_aa_residues',\n",
    "                     'intermediate_smiles',\n",
    "                     'name_in_fasta'],\n",
    "            copy = True\n",
    "        ))"
   ]
  },
  {
   "cell_type": "markdown",
   "metadata": {},
   "source": [
    "Print out stats on exported clusters"
   ]
  },
  {
   "cell_type": "code",
   "execution_count": 6,
   "metadata": {},
   "outputs": [
    {
     "name": "stdout",
     "output_type": "stream",
     "text": [
      "Total modules in ClusterCAD: 737\n",
      "DH domains meeting export criteria: 330\n",
      "Longest DH AA sequence: 805\n",
      "Shortest DH AA sequence: 287\n",
      "Sum of DH AA sequences: 181361\n",
      "Total DNA sequence length: 544083\n"
     ]
    }
   ],
   "source": [
    "print('Total modules in ClusterCAD:', str(len(allModules)))\n",
    "print('DH domains meeting export criteria:', str(len(myModules)))\n",
    "print('Longest DH AA sequence:', str(max(lengths)))\n",
    "print('Shortest DH AA sequence:', str(min(lengths)))\n",
    "print('Sum of DH AA sequences:', str(sum(lengths)))\n",
    "print('Total DNA sequence length:', str(sum(lengths)*3))"
   ]
  }
 ],
 "metadata": {
  "kernelspec": {
   "display_name": "Python 3",
   "language": "python",
   "name": "python3"
  },
  "language_info": {
   "codemirror_mode": {
    "name": "ipython",
    "version": 3
   },
   "file_extension": ".py",
   "mimetype": "text/x-python",
   "name": "python",
   "nbconvert_exporter": "python",
   "pygments_lexer": "ipython3",
   "version": "3.7.3"
  }
 },
 "nbformat": 4,
 "nbformat_minor": 2
}
